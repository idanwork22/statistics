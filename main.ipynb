{
 "cells": [
  {
   "cell_type": "markdown",
   "metadata": {},
   "source": [
    "# ניתוח גורמים המשפיעים על חומרת תאונות דרכים\n"
   ]
  },
  {
   "cell_type": "markdown",
   "metadata": {},
   "source": [
    "## 0. הגדרת שאלות המחקר המרכזיות\n"
   ]
  },
  {
   "cell_type": "markdown",
   "metadata": {},
   "source": [
    "במחקר זה נבחן את הגורמים העיקריים המשפיעים על חומרת הפציעה בתאונות דרכים. שאלת המחקר המרכזית היא: מהם הגורמים המשמעותיים הקשורים לחומרת התאונה? בפרט, נבדוק מגוון גורמים אפשריים כגון תנאי תאורה, תנאי מזג אוויר, התנהגות ופעולות הנהג, סוג הדרך והמיקום הגיאוגרפי של התאונה. כדי לפרט, שאלות המשנה כוללות בין היתר:\n",
    "האם תנאי התאורה (אור יום מול חושך, תאורת רחוב וכו') משפיעים על חומרת הפציעה בתאונה?\n",
    "כיצד תנאי מזג האוויר (לדוגמה: בהיר, גשם, ערפל) קשורים לחומרת התאונה?\n",
    "האם התנהגות הנהג (כגון נהיגה תחת השפעת אלכוהול/סמים או הסחת דעת) מגדילה את הסיכון לפציעה חמורה?\n",
    "האם יש הבדלים גאוגרפיים בחומרת התאונות (למשל בין אזורים עירוניים לכבישים מהירים בין-עירוניים)?\n",
    "אילו גורמים נוספים (מהירות מותרת, סוג הרכב, גיל הרכב, תקינות הרכב, תמרורים/רמזורים, ועוד) עשויים להשפיע על רמת החומרה של התאונה?\n",
    "המטרה היא לענות על שאלות אלו באמצעות ניתוח נתוני תאונות (הנתונים בקובץ crash_data.csv), תוך יישום השיטות שנלמדו בקורס \"סטטיסטיקה למדע הנתונים\". המחקר יתבצע בשלבים סדורים, החל בהיכרות עם הנתונים, דרך ניתוחים תאוריים וסטטיסטיים, פיתוח מודלים שונים, ועד לסיכום המלצות מבוססות ממצאים."
   ]
  },
  {
   "cell_type": "markdown",
   "metadata": {},
   "source": [
    "## 1. טעינת הנתונים ותיאור ראשוני\n"
   ]
  },
  {
   "cell_type": "raw",
   "metadata": {},
   "source": [
    "ראשית, נטען את הנתונים מקובץ ה-CSV ונתבונן במבנה שלהם. נרצה להבין אילו משתנים כלולים, סוגי המשתנים (קטגוריאלי/נומרי/טקסטואלי) ומה טווח הערכים שלהם. כמו כן, נוודא את מספר הרשומות ואת תקופת הזמן המכוסה בנתונים.\n"
   ]
  },
  {
   "cell_type": "code",
   "execution_count": 21,
   "metadata": {
    "scrolled": true
   },
   "outputs": [
    {
     "name": "stdout",
     "output_type": "stream",
     "text": [
      "  Report Number Local Case Number                Agency Name  \\\n",
      "0   MCP3170003V         240000438   Montgomery County Police   \n",
      "1   MCP3254003K         230072050   Montgomery County Police   \n",
      "2    EJ7887003Q         230074270  Gaithersburg Police Depar   \n",
      "3   MCP2674004J         230064598   Montgomery County Police   \n",
      "4   MCP25280008         230067019   Montgomery County Police   \n",
      "\n",
      "        ACRS Report Type         Crash Date/Time        Route Type  \\\n",
      "0  Property Damage Crash        01/03/2024 14:55               NaN   \n",
      "1           Injury Crash  12/16/2023 12:36:00 PM  Maryland (State)   \n",
      "2           Injury Crash  12/29/2023 12:00:00 PM  Maryland (State)   \n",
      "3  Property Damage Crash        11/05/2023 21:07  Maryland (State)   \n",
      "4  Property Damage Crash  11/18/2023 12:40:00 AM  Maryland (State)   \n",
      "\n",
      "          Road Name Cross-Street Type Cross-Street Name  \\\n",
      "0               NaN               NaN               NaN   \n",
      "1     GERMANTOWN RD            County    MIDDLEBROOK RD   \n",
      "2  GREAT SENECA HWY      Municipality    KENTLANDS BLVD   \n",
      "3      WOODFIELD RD            County    GLENDALOUGH RD   \n",
      "4     CLARKSBURG RD  Maryland (State)     CLARKSBURG RD   \n",
      "\n",
      "            Off-Road Description  ... Speed Limit Driverless Vehicle  \\\n",
      "0  IN FRONT OF 18900 BIRDSEYE DR  ...           0                 No   \n",
      "1                            NaN  ...          35                 No   \n",
      "2                            NaN  ...          35                 No   \n",
      "3                            NaN  ...          40                 No   \n",
      "4                            NaN  ...          20                 No   \n",
      "\n",
      "  Parked Vehicle Vehicle Year Vehicle Make Vehicle Model Equipment Problems  \\\n",
      "0             No         2017        LEXUS           SUV          NO MISUSE   \n",
      "1             No         2010         TOYT         PRIUS          NO MISUSE   \n",
      "2             No         2021       SUBARU     FORRESTER          NO MISUSE   \n",
      "3             No         2019        DODGE       CHARGER          NO MISUSE   \n",
      "4             No         2014       NISSAN         ROGUE                NaN   \n",
      "\n",
      "    Latitude  Longitude                     Location  \n",
      "0  39.165005 -77.249310     (39.16500483, -77.24931)  \n",
      "1  39.178776 -77.267190  (39.17877577, -77.26718974)  \n",
      "2  39.123574 -77.231769    (39.12357374, -77.231769)  \n",
      "3  39.211742 -77.171461  (39.21174219, -77.17146065)  \n",
      "4  39.228915 -77.289091  (39.22891483, -77.28909117)  \n",
      "\n",
      "[5 rows x 41 columns]\n",
      "Rows: 167330 Columns: 41\n",
      "Index(['Report Number', 'Local Case Number', 'Agency Name', 'ACRS Report Type',\n",
      "       'Crash Date/Time', 'Route Type', 'Road Name', 'Cross-Street Type',\n",
      "       'Cross-Street Name', 'Off-Road Description', 'Municipality',\n",
      "       'Related Non-Motorist', 'Collision Type', 'Weather',\n",
      "       'Surface Condition', 'Light', 'Traffic Control',\n",
      "       'Driver Substance Abuse', 'Non-Motorist Substance Abuse',\n",
      "       'Driver At Fault', 'Injury Severity', 'Circumstance',\n",
      "       'Driver Distracted By', 'Drivers License State',\n",
      "       'Vehicle Damage Extent', 'Vehicle First Impact Location',\n",
      "       'Vehicle Second Impact Location', 'Vehicle Body Type',\n",
      "       'Vehicle Movement', 'Vehicle Continuing Dir', 'Vehicle Going Dir',\n",
      "       'Speed Limit', 'Driverless Vehicle', 'Parked Vehicle', 'Vehicle Year',\n",
      "       'Vehicle Make', 'Vehicle Model', 'Equipment Problems', 'Latitude',\n",
      "       'Longitude', 'Location'],\n",
      "      dtype='object')\n"
     ]
    },
    {
     "name": "stderr",
     "output_type": "stream",
     "text": [
      "/var/folders/zt/dq2kcvnj1j3d39_l9mcfqtt40000gn/T/ipykernel_86902/507432998.py:3: DtypeWarning: Columns (1) have mixed types. Specify dtype option on import or set low_memory=False.\n",
      "  df = pd.read_csv('crash_data.csv', encoding='ISO-8859-8')  # שימוש בקידוד מתאים אם נדרש\n"
     ]
    }
   ],
   "source": [
    "# טעינת הנתונים לקובץ pandas DataFrame\n",
    "import pandas as pd\n",
    "df = pd.read_csv('crash_data.csv', encoding='ISO-8859-8')  # שימוש בקידוד מתאים אם נדרש\n",
    "# הצגה של 5 הרשומות הראשונות לבדיקת המבנה\n",
    "print(df.head(5))\n",
    "# בדיקה בסיסית של גודל ומבנה הנתונים\n",
    "print(\"Rows:\", len(df), \"Columns:\", len(df.columns))\n",
    "print(df.columns)\n"
   ]
  },
  {
   "cell_type": "markdown",
   "metadata": {},
   "source": [
    "| משתנה (English)                    | תיאור (עברית)                                              | סוג הערכים (Type)                             |\n",
    "| ---------------------------------- | ---------------------------------------------------------- | --------------------------------------------- |\n",
    "| **Report Number**                  | מספר מזהה ייחודי לדיווח תאונה (מספר דו\"ח תאונה)            | מזהה קטגורי (מחרוזת)                          |\n",
    "| **Local Case Number**              | מספר מקרה פנימי של הרשויות (משטרה)                         | מזהה קטגורי (מחרוזת)                          |\n",
    "| **Agency Name**                    | שם הגוף המדווח (למשל משטרת התנועה או מחוז)                 | קטגורי (מחרוזת)                               |\n",
    "| **ACRS Report Type**               | סוג הדו\"ח במערכת ACRS (ייתכן \"Crash\" מלא או דיווח מקוצר)   | קטגורי                                        |\n",
    "| **Crash Date/Time**                | תאריך ושעת התאונה                                          | תאריך ושעה (מחרוזת, נמיר לדאטה-טיים)          |\n",
    "| **Route Type**                     | סוג הדרך (כביש בינעירוני, כביש מקומי, כביש מדינה וכו')     | קטגורי (ערכים כמו \"Interstate\", \"County\")     |\n",
    "| **Road Name**                      | שם הכביש הראשי בו אירעה התאונה                             | קטגורי (מחרוזת)                               |\n",
    "| **Cross-Street Type**              | סוג הכביש החוצה (אם רלוונטי, למשל צומת)                    | קטגורי                                        |\n",
    "| **Cross-Street Name**              | שם הרחוב החוצה (במקרה של צומת)                             | קטגורי (מחרוזת)                               |\n",
    "| **Off-Road Description**           | תיאור מיקום התאונה אם אירעה מחוץ לכביש הראשי               | טקסט (תיאור חופשי)                            |\n",
    "| **Municipality**                   | רשויות מוניציפלית (עיר/מחוז שבה התרחשה התאונה)             | קטגורי (שם יישוב)                             |\n",
    "| **Related Non-Motorist**           | סוג משתמש דרך לא-ממונע קשור (אם היה, כגון הולך רגל)        | קטגורי (לדוגמה: Pedestrian, Bicyclist)        |\n",
    "| **Collision Type**                 | סוג ההתנגשות (חזיתית, אחורית, צד וכו')                     | קטגורי (ערכים המתארים כיוון התנגשות)          |\n",
    "| **Weather**                        | מזג אוויר בעת התאונה                                       | קטגורי (Clear, Rain, Snow, Fog וכו')          |\n",
    "| **Surface Condition**              | מצב פני הכביש (יבש, רטוב, מושלג וכו')                      | קטגורי (Dry, Wet, Snow, Ice וכו')             |\n",
    "| **Light**                          | תנאי תאורה (אור יום, חשוך עם/בלי תאורת רחוב, דמדומים וכו') | קטגורי (Daylight, Dark, Dawn וכו')            |\n",
    "| **Traffic Control**                | סוג בקרת התנועה במקום (רמזור, תמרור עצור, ללא)             | קטגורי                                        |\n",
    "| **Driver Substance Abuse**         | שימוש הנהג בסמים/אלכוהול (כפי שזוהה בדו\"ח)                 | קטגורי (None Detected, Alcohol, etc)          |\n",
    "| **Non-Motorist Substance Abuse**   | שימוש בסמים/אלכוהול אצל משתמש דרך לא-ממונע                 | קטגורי                                        |\n",
    "| **Driver At Fault**                | האם הנהג (שבגיליון זה) היה האשם בתאונה                     | קטגורי בינארי (Yes/No/Unknown)                |\n",
    "| **Injury Severity**                | חומרת הפגיעה באירוע (ברמת התאונה/אדם)                      | קטגורי סדר (No Injury, Minor, Serious, Fatal) |\n",
    "| **Circumstance**                   | נסיבות מיוחדות (עמודה שמתארת נסיבות או גורם תורם)          | קטגורי/טקסט (לדוגמה: Speeding, DWI)           |\n",
    "| **Driver Distracted By**           | האם ובמה הנהג הוסח (טלפון, רדיו, נוסע וכו')                | קטגורי (ערכים שונים + Unknown)                |\n",
    "| **Drivers License State**          | מדינת רישיון הנהג                                          | קטגורי (ארה\"ב: MD, VA וכו')                   |\n",
    "| **Vehicle Damage Extent**          | היקף הנזק לרכב (קל, משמעותי, טוטאל לוס וכו')               | קטגורי (None, Minor, Disabling, etc)          |\n",
    "| **Vehicle First Impact Location**  | מיקום הפגיעה הראשון ברכב (קדמי, צדדי וכו')                 | קטגורי                                        |\n",
    "| **Vehicle Second Impact Location** | מיקום פגיעה שני ברכב (אם היה)                              | קטגורי                                        |\n",
    "| **Vehicle Body Type**              | סוג גוף הרכב (פרטי, SUV, אופנוע, משאית וכו')               | קטגורי                                        |\n",
    "| **Vehicle Movement**               | תנועת הרכב בעת התאונה (נע ישר, פנייה, עצירה וכו')          | קטגורי                                        |\n",
    "| **Vehicle Continuing Dir**         | כיוון נסיעת הרכב לפני התאונה (צפון, דרום, מזרח, מערב)      | קטגורי                                        |\n",
    "| **Vehicle Going Dir**              | כיוון התקדמות הרכב בפגיעה (כנ\"ל, לעיתים שונה מכיוון ההמשך) | קטגורי                                        |\n",
    "| **Speed Limit**                    | מהירות הנסיעה המותרת בכביש בו אירעה התאונה                 | נומרי (שלם, למשל 30, 45 וכו' במייל/שעה)       |\n",
    "| **Driverless Vehicle**             | האם הרכב ללא נהג (למשל רכב חונה ללא נהג)                   | בינארי (Yes/No)                               |\n",
    "| **Parked Vehicle**                 | האם הרכב היה חונה בעת התאונה                               | בינארי (Yes/No)                               |\n",
    "| **Vehicle Year**                   | שנת הייצור של הרכב                                         | נומרי (4 ספרות שנה, למשל 2015)                |\n",
    "| **Vehicle Make**                   | יצרן הרכב (מותג, למשל Toyota)                              | קטגורי                                        |\n",
    "| **Vehicle Model**                  | דגם הרכב                                                   | קטגורי                                        |\n",
    "| **Equipment Problems**             | תקלות בציוד הרכב (אם צוין, כגון תקלה בבלמים)               | קטגורי (None, Brakes, Tires וכו')             |\n",
    "| **Latitude**                       | קו רוחב של מיקום התאונה                                    | נומרי (float, קואורדינטה גאוגרפית)            |\n",
    "| **Longitude**                      | קו אורך של מיקום התאונה                                    | נומרי (float, קואורדינטה גאוגרפית)            |\n",
    "| **Location**                       | כתובת או תיאור מיקום (טקסטואלי, שילוב כתובת/צומת)          | טקסט (כתובת)                                  |\n"
   ]
  },
  {
   "cell_type": "raw",
   "metadata": {},
   "source": [
    "כפי שניתן לראות, יש מגוון רחב של משתנים: חלקם מזהים (כמו מספרי דוח ומקרה), חלקם מאפייני מיקום, חלקם מאפייני סביבה (מזג אוויר, תאורה, מצב כביש), מאפייני נהג ורכב, ולבסוף חומרת הפגיעה שהיא משתנה התוצאה המרכזי שמעניין אותנו. נתמקד בעיקר במשתנים שעשויים להיות רלוונטיים לחומרת הפציעה: תנאי סביבה (מזג אוויר, תאורה, מצב כביש), התנהגות הנהג (שכרות, הסחת דעת, אשמה בתאונה), מאפייני דרך (סוג כביש, מהירות מותרת, אמצעי בקרה), ומאפייני רכב (סוג רכב, שנת ייצור). משתנים מזהים או ספציפיים מאוד (כמו מספר דו\"ח, שם רחוב, דגם רכב) כנראה פחות רלוונטיים לניתוח הגורמים הכלליים ולכן ייתכן שנשמיט אותם בהמשך. לפני שנעמיק, נוודא גם את התפלגות משתנה המטרה – חומרת הפציעה. נבדוק כמה מקרים שייכים לכל קטגוריה של חומרת פציעה (ללא פגיעה, פגיעה קלה, קשה, קטלנית):"
   ]
  },
  {
   "cell_type": "code",
   "execution_count": 22,
   "metadata": {},
   "outputs": [
    {
     "name": "stdout",
     "output_type": "stream",
     "text": [
      "Injury Severity\n",
      "NO APPARENT INJURY          137209\n",
      "POSSIBLE INJURY              17044\n",
      "SUSPECTED MINOR INJURY       11546\n",
      "SUSPECTED SERIOUS INJURY      1382\n",
      "FATAL INJURY                   149\n",
      "Name: count, dtype: int64\n"
     ]
    }
   ],
   "source": [
    "# בדיקת שכיחות כל רמת חומרה\n",
    "print(df['Injury Severity'].value_counts())\n"
   ]
  },
  {
   "cell_type": "raw",
   "metadata": {},
   "source": [
    "על פי הפלט, רוב גדול של הרשומות הן תאונות ללא פציעה כלל (No Apparent Injury), מספר לא מבוטל בתאונות עם פציעה אפשרית או קלה, ומספר קטן יחסית של תאונות עם פציעה חמורה או קטלנית. למשל, ייתכן שנראה תוצאות דוגמת: 137,000 ללא פציעה, 17,000 פציעה אפשרית, 11,500 פציעה מינורית, 1,382 פציעה חמורה, ו-149 קטלניות. הדבר מצביע על כך שחומרה חמורה וקטלנית הן אירועים נדירים יחסית בנתונים (פחות מ-1% מהתאונות המדווחות). תקופת הזמן: נבדוק גם את טווח התאריכים בנתונים: האם אלו נתוני שנה ספציפית או תקופה של מספר שנים? למשל, אם נבצע:"
   ]
  },
  {
   "cell_type": "code",
   "execution_count": 23,
   "metadata": {},
   "outputs": [
    {
     "name": "stdout",
     "output_type": "stream",
     "text": [
      "2015-01-01 00:30:00  to  2024-01-03 14:55:00\n"
     ]
    }
   ],
   "source": [
    "# פתרון בטוח להמרת תאריכים בפורמטים שונים\n",
    "df['Crash Date/Time'] = pd.to_datetime(df['Crash Date/Time'], errors='coerce', format='mixed')\n",
    "print(df['Crash Date/Time'].min(), \" to \", df['Crash Date/Time'].max())\n"
   ]
  },
  {
   "cell_type": "code",
   "execution_count": 24,
   "metadata": {},
   "outputs": [
    {
     "name": "stdout",
     "output_type": "stream",
     "text": [
      "Unparsed rows: 0\n"
     ]
    }
   ],
   "source": [
    "print(\"Unparsed rows:\", df['Crash Date/Time'].isna().sum())\n"
   ]
  },
  {
   "cell_type": "code",
   "execution_count": null,
   "metadata": {},
   "outputs": [],
   "source": []
  },
  {
   "cell_type": "markdown",
   "metadata": {},
   "source": [
    "## 2. ניקוי ועיבוד נתונים\n"
   ]
  },
  {
   "cell_type": "code",
   "execution_count": 25,
   "metadata": {},
   "outputs": [
    {
     "name": "stdout",
     "output_type": "stream",
     "text": [
      "Weekday\n",
      "4    26970\n",
      "1    26198\n",
      "3    26054\n",
      "2    25763\n",
      "0    24175\n",
      "5    20851\n",
      "6    17319\n",
      "Name: count, dtype: int64\n"
     ]
    }
   ],
   "source": [
    "# יצירת עמודות נוספות לזמן: שנה, חודש, יום בשבוע ושעה\n",
    "df['Year'] = df['Crash Date/Time'].dt.year\n",
    "df['Month'] = df['Crash Date/Time'].dt.month\n",
    "df['Hour'] = df['Crash Date/Time'].dt.hour\n",
    "df['Weekday'] = df['Crash Date/Time'].dt.dayofweek  # 0=Monday, 6=Sunday\n",
    "# דוגמה: הצגת התפלגות תאונות לפי יום בשבוע\n",
    "print(df['Weekday'].value_counts())\n"
   ]
  },
  {
   "cell_type": "code",
   "execution_count": 12,
   "metadata": {},
   "outputs": [
    {
     "name": "stdout",
     "output_type": "stream",
     "text": [
      "Number of exact duplicate rows: 2\n",
      "Max vehicles per crash: 10\n"
     ]
    }
   ],
   "source": [
    "# בדיקה האם יש רשומות זהות לחלוטין כפולות\n",
    "duplicate_rows = df.duplicated().sum()\n",
    "print(\"Number of exact duplicate rows:\", duplicate_rows)\n",
    "# ספירת רשומות לכל Report Number (כדי לראות כמה רשומות לכל תאונה)\n",
    "counts_per_crash = df.groupby('Report Number').size()\n",
    "print(\"Max vehicles per crash:\", counts_per_crash.max())\n"
   ]
  },
  {
   "cell_type": "code",
   "execution_count": 13,
   "metadata": {},
   "outputs": [
    {
     "name": "stdout",
     "output_type": "stream",
     "text": [
      "Non-Motorist Substance Abuse    163152\n",
      "Related Non-Motorist            162053\n",
      "Off-Road Description            151884\n",
      "Municipality                    148710\n",
      "Circumstance                    136877\n",
      "Equipment Problems               33170\n",
      "Driver Substance Abuse           30317\n",
      "Traffic Control                  24745\n",
      "Surface Condition                19450\n",
      "Cross-Street Type                16479\n",
      "dtype: int64\n"
     ]
    }
   ],
   "source": [
    "# חישוב כמות החסרים בכל עמודה\n",
    "missing_counts = df.isnull().sum().sort_values(ascending=False)\n",
    "print(missing_counts.head(10))"
   ]
  },
  {
   "cell_type": "code",
   "execution_count": 14,
   "metadata": {},
   "outputs": [
    {
     "name": "stdout",
     "output_type": "stream",
     "text": [
      "SevLevel3\n",
      "No Injury    137209\n",
      "Minor         28590\n",
      "Severe         1531\n",
      "Name: count, dtype: int64\n"
     ]
    }
   ],
   "source": [
    "# יצירת עמודה בינארית לפציעה כלשהי (יש/אין)\n",
    "df['AnyInjury'] = (df['Injury Severity'] != 'NO APPARENT INJURY').astype(int)\n",
    "# יצירת עמודה לפציעה חמורה (חמורה או קטלנית) מול אחרת\n",
    "df['SevereInjury'] = df['Injury Severity'].isin(['SUSPECTED SERIOUS INJURY','FATAL INJURY']).astype(int)\n",
    "# קידוד חומרה ל-3 רמות: No Injury / Minor / Severe\n",
    "def sev_level_cat(sev):\n",
    "    if sev == 'NO APPARENT INJURY':\n",
    "        return 'No Injury'\n",
    "    elif sev in ['POSSIBLE INJURY', 'SUSPECTED MINOR INJURY']:\n",
    "        return 'Minor'\n",
    "    else:\n",
    "        return 'Severe'\n",
    "df['SevLevel3'] = df['Injury Severity'].apply(sev_level_cat)\n",
    "print(df['SevLevel3'].value_counts())\n"
   ]
  },
  {
   "cell_type": "code",
   "execution_count": 15,
   "metadata": {},
   "outputs": [
    {
     "name": "stdout",
     "output_type": "stream",
     "text": [
      "                 Count  % Severe\n",
      "Light                           \n",
      "DARK LIGHTS ON   38790  1.036350\n",
      "DARK NO LIGHTS    4865  1.562179\n",
      "DAWN              3403  0.969733\n",
      "DAYLIGHT        113981  0.846632\n",
      "DUSK              3868  1.266805\n",
      "OTHER              334  0.299401\n",
      "UNKNOWN            669  0.000000\n"
     ]
    }
   ],
   "source": [
    "# חישוב אחוז התאונות החמורות (SevereInjury) בכל קטגוריית תאורה\n",
    "severity_rate_by_light = df.groupby('Light')['SevereInjury'].mean() * 100\n",
    "count_by_light = df['Light'].value_counts()\n",
    "print(pd.DataFrame({'Count': count_by_light, '% Severe': severity_rate_by_light}))\n"
   ]
  },
  {
   "cell_type": "code",
   "execution_count": 16,
   "metadata": {},
   "outputs": [
    {
     "name": "stdout",
     "output_type": "stream",
     "text": [
      "             Count  % Severe\n",
      "WeatherCat                  \n",
      "CLEAR       113632  0.949556\n",
      "CLOUDY       16930  1.069108\n",
      "FOGGY          654  1.223242\n",
      "OTHER        14783  0.777921\n",
      "RAINING      19933  0.717403\n",
      "SNOW          1398  0.357654\n"
     ]
    }
   ],
   "source": [
    "# השוואת כמות התאונות ואחוז הפציעות החמורות לפי מזג אוויר עיקרי\n",
    "main_weather = ['CLEAR','RAINING','CLOUDY','SNOW','FOGGY']\n",
    "df['WeatherCat'] = df['Weather'].where(df['Weather'].isin(main_weather), 'OTHER')\n",
    "weather_counts = df['WeatherCat'].value_counts()\n",
    "weather_severe_rate = df.groupby('WeatherCat')['SevereInjury'].mean() * 100\n",
    "print(pd.DataFrame({'Count': weather_counts, '% Severe': weather_severe_rate}))\n"
   ]
  },
  {
   "cell_type": "code",
   "execution_count": 17,
   "metadata": {
    "scrolled": true
   },
   "outputs": [
    {
     "name": "stdout",
     "output_type": "stream",
     "text": [
      "Mean speed limit - Injury: 35.41515885926762 ; No Injury: 31.937664438921644\n"
     ]
    }
   ],
   "source": [
    "# חישוב מהירות מותרת ממוצעת בתאונות עם פציעה לעומת ללא פציעה\n",
    "df['SpeedNum'] = pd.to_numeric(df['Speed Limit'], errors='coerce')\n",
    "mean_speed_injury = df[df['AnyInjury']==1]['SpeedNum'].mean()\n",
    "mean_speed_noinjury = df[df['AnyInjury']==0]['SpeedNum'].mean()\n",
    "print(\"Mean speed limit - Injury:\", mean_speed_injury, \"; No Injury:\", mean_speed_noinjury)\n"
   ]
  },
  {
   "cell_type": "code",
   "execution_count": 18,
   "metadata": {},
   "outputs": [
    {
     "data": {
      "image/png": "[encoded data removed]",
      "text/plain": [
       "<Figure size 640x480 with 1 Axes>"
      ]
     },
     "metadata": {},
     "output_type": "display_data"
    }
   ],
   "source": [
    "import seaborn as sns\n",
    "import matplotlib.pyplot as plt\n",
    "# עלילת Boxplot למהירות מותרת לפי רמת חומרה (3 קטגוריות למשל)\n",
    "sns.boxplot(x='SevLevel3', y='SpeedNum', data=df, showfliers=False)\n",
    "plt.title(\"התפלגות מהירות מותרת לפי חומרת התאונה\")\n",
    "plt.ylabel(\"מהירות מותרת (מייל לשעה)\")\n",
    "plt.xlabel(\"חומרת התאונה\")\n",
    "plt.show()\n"
   ]
  },
  {
   "cell_type": "code",
   "execution_count": null,
   "metadata": {},
   "outputs": [],
   "source": []
  },
  {
   "cell_type": "code",
   "execution_count": null,
   "metadata": {},
   "outputs": [],
   "source": []
  },
  {
   "cell_type": "code",
   "execution_count": null,
   "metadata": {},
   "outputs": [],
   "source": []
  },
  {
   "cell_type": "code",
   "execution_count": null,
   "metadata": {},
   "outputs": [],
   "source": []
  },
  {
   "cell_type": "code",
   "execution_count": null,
   "metadata": {},
   "outputs": [],
   "source": []
  },
  {
   "cell_type": "code",
   "execution_count": null,
   "metadata": {},
   "outputs": [],
   "source": []
  },
  {
   "cell_type": "code",
   "execution_count": null,
   "metadata": {},
   "outputs": [],
   "source": []
  },
  {
   "cell_type": "code",
   "execution_count": null,
   "metadata": {},
   "outputs": [],
   "source": []
  },
  {
   "cell_type": "code",
   "execution_count": null,
   "metadata": {},
   "outputs": [],
   "source": []
  },
  {
   "cell_type": "code",
   "execution_count": null,
   "metadata": {},
   "outputs": [],
   "source": []
  },
  {
   "cell_type": "code",
   "execution_count": null,
   "metadata": {},
   "outputs": [],
   "source": []
  },
  {
   "cell_type": "code",
   "execution_count": null,
   "metadata": {},
   "outputs": [],
   "source": []
  }
 ],
 "metadata": {
  "kernelspec": {
   "display_name": "Python 3 (ipykernel)",
   "language": "python",
   "name": "python3"
  },
  "language_info": {
   "codemirror_mode": {
    "name": "ipython",
    "version": 3
   },
   "file_extension": ".py",
   "mimetype": "text/x-python",
   "name": "python",
   "nbconvert_exporter": "python",
   "pygments_lexer": "ipython3",
   "version": "3.9.0"
  }
 },
 "nbformat": 4,
 "nbformat_minor": 4
}
